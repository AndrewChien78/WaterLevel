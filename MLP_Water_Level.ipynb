{
  "nbformat": 4,
  "nbformat_minor": 0,
  "metadata": {
    "colab": {
      "name": "MLP Water Level.ipynb",
      "version": "0.3.2",
      "provenance": [],
      "collapsed_sections": [],
      "include_colab_link": true
    },
    "kernelspec": {
      "name": "python3",
      "display_name": "Python 3"
    }
  },
  "cells": [
    {
      "cell_type": "markdown",
      "metadata": {
        "id": "view-in-github",
        "colab_type": "text"
      },
      "source": [
        "<a href=\"https://colab.research.google.com/github/AndrewChien78/WaterLevel/blob/master/MLP_Water_Level.ipynb\" target=\"_parent\"><img src=\"https://colab.research.google.com/assets/colab-badge.svg\" alt=\"Open In Colab\"/></a>"
      ]
    },
    {
      "metadata": {
        "id": "Mygn1o8oGekf",
        "colab_type": "text"
      },
      "cell_type": "markdown",
      "source": [
        "# MLP for Water Level Times Series\n",
        "This is the code from Jason Brownlee's Deep Learning Time Series Forecasting eBook, Chapter 7"
      ]
    },
    {
      "metadata": {
        "id": "-BL9AoDoJjK2",
        "colab_type": "text"
      },
      "cell_type": "markdown",
      "source": [
        "## 7.2 Univariate MLP Models\n",
        "### 7.2.1 Data preparation"
      ]
    },
    {
      "metadata": {
        "id": "wJ-1xtuXLktV",
        "colab_type": "code",
        "outputId": "8c929a9b-0068-45af-87f1-3cb08e0c294e",
        "colab": {
          "base_uri": "https://localhost:8080/",
          "height": 125
        }
      },
      "cell_type": "code",
      "source": [
        "# The code below does not to be run if the GDrive has been authorised and mounted\n",
        "from google.colab import drive\n",
        "drive.mount('/content/gdrive')"
      ],
      "execution_count": 1,
      "outputs": [
        {
          "output_type": "stream",
          "text": [
            "Go to this URL in a browser: https://accounts.google.com/o/oauth2/auth?client_id=947318989803-6bn6qk8qdgf4n4g3pfee6491hc0brc4i.apps.googleusercontent.com&redirect_uri=urn%3Aietf%3Awg%3Aoauth%3A2.0%3Aoob&scope=email%20https%3A%2F%2Fwww.googleapis.com%2Fauth%2Fdocs.test%20https%3A%2F%2Fwww.googleapis.com%2Fauth%2Fdrive%20https%3A%2F%2Fwww.googleapis.com%2Fauth%2Fdrive.photos.readonly%20https%3A%2F%2Fwww.googleapis.com%2Fauth%2Fpeopleapi.readonly&response_type=code\n",
            "\n",
            "Enter your authorization code:\n",
            "··········\n",
            "Mounted at /content/gdrive\n"
          ],
          "name": "stdout"
        }
      ]
    },
    {
      "metadata": {
        "id": "sx6Sao_-Lr7z",
        "colab_type": "code",
        "colab": {}
      },
      "cell_type": "code",
      "source": [
        "# Run this code instead if already authorised\n",
        "from google.colab import drive\n",
        "drive.mount('/content/gdrive', force_remount=True)"
      ],
      "execution_count": 0,
      "outputs": []
    },
    {
      "metadata": {
        "id": "tZChhimYMQWI",
        "colab_type": "code",
        "outputId": "ba19cabf-4e00-4bdf-9a9f-623b0c32c96a",
        "colab": {
          "base_uri": "https://localhost:8080/",
          "height": 457
        }
      },
      "cell_type": "code",
      "source": [
        "#Setup input_data_File\n",
        "input_data_file = '/content/gdrive//My Drive/Colab Notebooks/data/atimCreek2017-05-01.csv'\n",
        "\n",
        "#import all of the libraries required:\n",
        "from pandas import read_csv\n",
        "from matplotlib import pyplot\n",
        "from numpy import array\n",
        "import pandas as pd\n",
        "print(\"pandas Version is\", pd.__version__)\n",
        "# print(\"Pandas and other module version\", pd.show_versions(as_json = False))\n",
        "\n",
        "#load data using read_csv method function\n",
        "series = read_csv(input_data_file, header=0)\n",
        "wtr_lvl_series = series.drop(columns=['Date.and.Time'])\n",
        "\n",
        "#Convert dataframe into numpy array\n",
        "wtr_lvl_series = wtr_lvl_series['Water.Level..m.'].values\n",
        "print(wtr_lvl_series)\n"
      ],
      "execution_count": 2,
      "outputs": [
        {
          "output_type": "stream",
          "text": [
            "pandas Version is 0.22.0\n",
            "[8.721 8.721 8.724 8.723 8.719 8.723 8.724 8.723 8.721 8.729 8.727 8.723\n",
            " 8.723 8.722 8.719 8.725 8.721 8.724 8.718 8.723 8.724 8.719 8.722 8.718\n",
            " 8.724 8.725 8.716 8.725 8.727 8.718 8.717 8.715 8.725 8.717 8.725 8.723\n",
            " 8.724 8.718 8.714 8.72  8.718 8.722 8.718 8.725 8.722 8.723 8.718 8.712\n",
            " 8.721 8.725 8.713 8.718 8.718 8.719 8.722 8.722 8.717 8.718 8.718 8.715\n",
            " 8.716 8.722 8.719 8.716 8.724 8.716 8.723 8.721 8.72  8.723 8.722 8.723\n",
            " 8.72  8.722 8.718 8.719 8.723 8.709 8.718 8.718 8.711 8.719 8.72  8.722\n",
            " 8.72  8.721 8.723 8.722 8.723 8.72  8.723 8.719 8.722 8.72  8.722 8.72\n",
            " 8.721 8.724 8.728 8.727 8.725 8.729 8.727 8.724 8.721 8.721 8.719 8.717\n",
            " 8.718 8.716 8.72  8.717 8.717 8.718 8.72  8.718 8.72  8.715 8.722 8.718\n",
            " 8.721 8.718 8.719 8.725 8.721 8.718 8.723 8.717 8.725 8.714 8.722 8.715\n",
            " 8.721 8.713 8.723 8.722 8.719 8.727 8.726 8.725 8.726 8.727 8.729 8.717\n",
            " 8.724 8.727 8.724 8.728 8.726 8.731 8.723 8.718 8.723 8.723 8.726 8.719\n",
            " 8.72  8.714 8.718 8.721 8.721 8.717 8.724 8.722 8.716 8.719 8.72  8.726\n",
            " 8.721 8.72  8.721 8.716 8.724 8.723 8.722 8.721 8.723 8.724 8.719 8.723\n",
            " 8.725 8.715 8.714 8.717 8.718 8.72  8.719 8.716 8.722 8.723 8.72  8.716\n",
            " 8.713 8.711 8.716 8.72  8.717 8.717 8.718 8.718 8.721 8.719 8.718 8.72\n",
            " 8.721 8.716 8.715 8.719 8.718 8.72  8.722 8.719 8.711 8.715 8.716 8.714\n",
            " 8.717 8.715 8.716 8.719 8.709 8.722 8.712 8.714 8.715 8.714 8.713 8.71\n",
            " 8.713 8.714 8.715 8.718 8.715 8.712 8.716 8.714 8.716 8.715 8.715 8.718\n",
            " 8.715 8.717 8.711 8.719 8.714 8.711 8.716 8.718 8.721 8.713 8.718 8.719\n",
            " 8.719 8.711 8.714 8.713 8.715 8.716 8.717 8.713 8.72  8.718 8.711 8.716\n",
            " 8.709 8.714 8.709 8.714 8.715 8.714 8.713 8.717 8.72  8.713 8.716 8.713\n",
            " 8.715 8.71  8.717 8.712 8.714 8.708 8.712 8.713 8.713 8.714 8.719 8.715]\n"
          ],
          "name": "stdout"
        }
      ]
    },
    {
      "metadata": {
        "id": "Jr3HoSkDGdPW",
        "colab_type": "code",
        "outputId": "8cc831a1-86a3-43df-f1ce-7535b298df09",
        "colab": {
          "base_uri": "https://localhost:8080/",
          "height": 5033
        }
      },
      "cell_type": "code",
      "source": [
        "# Univariate Data Preparation\n",
        "\n",
        "# split a univariate sequence into samples\n",
        "def split_sequence(sequence, n_steps):\n",
        "\tX, y = list(), list()\n",
        "\tfor i in range(len(sequence)):\n",
        "\t\t# find the end of this pattern\n",
        "\t\tend_ix = i + n_steps\n",
        "\t\t# check if we are beyond the sequence\n",
        "\t\tif end_ix > len(sequence)-1:\n",
        "\t\t\tbreak\n",
        "\t\t# gather input and output parts of the pattern\n",
        "\t\tseq_x, seq_y = sequence[i:end_ix], sequence[end_ix]\n",
        "\t\tX.append(seq_x)\n",
        "\t\ty.append(seq_y)\n",
        "\treturn array(X), array(y)\n",
        "\n",
        "# define input sequence\n",
        "raw_seq = wtr_lvl_series\n",
        "# choose a number of time steps\n",
        "n_steps = 3\n",
        "# split into samples\n",
        "X, y = split_sequence(raw_seq, n_steps)\n",
        "# summarize the data\n",
        "for i in range(len(X)):\n",
        "\tprint(\"Input\", X[i], \"Output\", y[i])"
      ],
      "execution_count": 3,
      "outputs": [
        {
          "output_type": "stream",
          "text": [
            "Input [8.721 8.721 8.724] Output 8.722999999999999\n",
            "Input [8.721 8.724 8.723] Output 8.719\n",
            "Input [8.724 8.723 8.719] Output 8.722999999999999\n",
            "Input [8.723 8.719 8.723] Output 8.724\n",
            "Input [8.719 8.723 8.724] Output 8.722999999999999\n",
            "Input [8.723 8.724 8.723] Output 8.721\n",
            "Input [8.724 8.723 8.721] Output 8.729\n",
            "Input [8.723 8.721 8.729] Output 8.727\n",
            "Input [8.721 8.729 8.727] Output 8.722999999999999\n",
            "Input [8.729 8.727 8.723] Output 8.722999999999999\n",
            "Input [8.727 8.723 8.723] Output 8.722000000000001\n",
            "Input [8.723 8.723 8.722] Output 8.719\n",
            "Input [8.723 8.722 8.719] Output 8.725\n",
            "Input [8.722 8.719 8.725] Output 8.721\n",
            "Input [8.719 8.725 8.721] Output 8.724\n",
            "Input [8.725 8.721 8.724] Output 8.718\n",
            "Input [8.721 8.724 8.718] Output 8.722999999999999\n",
            "Input [8.724 8.718 8.723] Output 8.724\n",
            "Input [8.718 8.723 8.724] Output 8.719\n",
            "Input [8.723 8.724 8.719] Output 8.722000000000001\n",
            "Input [8.724 8.719 8.722] Output 8.718\n",
            "Input [8.719 8.722 8.718] Output 8.724\n",
            "Input [8.722 8.718 8.724] Output 8.725\n",
            "Input [8.718 8.724 8.725] Output 8.716000000000001\n",
            "Input [8.724 8.725 8.716] Output 8.725\n",
            "Input [8.725 8.716 8.725] Output 8.727\n",
            "Input [8.716 8.725 8.727] Output 8.718\n",
            "Input [8.725 8.727 8.718] Output 8.717\n",
            "Input [8.727 8.718 8.717] Output 8.715\n",
            "Input [8.718 8.717 8.715] Output 8.725\n",
            "Input [8.717 8.715 8.725] Output 8.717\n",
            "Input [8.715 8.725 8.717] Output 8.725\n",
            "Input [8.725 8.717 8.725] Output 8.722999999999999\n",
            "Input [8.717 8.725 8.723] Output 8.724\n",
            "Input [8.725 8.723 8.724] Output 8.718\n",
            "Input [8.723 8.724 8.718] Output 8.714\n",
            "Input [8.724 8.718 8.714] Output 8.72\n",
            "Input [8.718 8.714 8.72 ] Output 8.718\n",
            "Input [8.714 8.72  8.718] Output 8.722000000000001\n",
            "Input [8.72  8.718 8.722] Output 8.718\n",
            "Input [8.718 8.722 8.718] Output 8.725\n",
            "Input [8.722 8.718 8.725] Output 8.722000000000001\n",
            "Input [8.718 8.725 8.722] Output 8.722999999999999\n",
            "Input [8.725 8.722 8.723] Output 8.718\n",
            "Input [8.722 8.723 8.718] Output 8.712\n",
            "Input [8.723 8.718 8.712] Output 8.721\n",
            "Input [8.718 8.712 8.721] Output 8.725\n",
            "Input [8.712 8.721 8.725] Output 8.713\n",
            "Input [8.721 8.725 8.713] Output 8.718\n",
            "Input [8.725 8.713 8.718] Output 8.718\n",
            "Input [8.713 8.718 8.718] Output 8.719\n",
            "Input [8.718 8.718 8.719] Output 8.722000000000001\n",
            "Input [8.718 8.719 8.722] Output 8.722000000000001\n",
            "Input [8.719 8.722 8.722] Output 8.717\n",
            "Input [8.722 8.722 8.717] Output 8.718\n",
            "Input [8.722 8.717 8.718] Output 8.718\n",
            "Input [8.717 8.718 8.718] Output 8.715\n",
            "Input [8.718 8.718 8.715] Output 8.716000000000001\n",
            "Input [8.718 8.715 8.716] Output 8.722000000000001\n",
            "Input [8.715 8.716 8.722] Output 8.719\n",
            "Input [8.716 8.722 8.719] Output 8.716000000000001\n",
            "Input [8.722 8.719 8.716] Output 8.724\n",
            "Input [8.719 8.716 8.724] Output 8.716000000000001\n",
            "Input [8.716 8.724 8.716] Output 8.722999999999999\n",
            "Input [8.724 8.716 8.723] Output 8.721\n",
            "Input [8.716 8.723 8.721] Output 8.72\n",
            "Input [8.723 8.721 8.72 ] Output 8.722999999999999\n",
            "Input [8.721 8.72  8.723] Output 8.722000000000001\n",
            "Input [8.72  8.723 8.722] Output 8.722999999999999\n",
            "Input [8.723 8.722 8.723] Output 8.72\n",
            "Input [8.722 8.723 8.72 ] Output 8.722000000000001\n",
            "Input [8.723 8.72  8.722] Output 8.718\n",
            "Input [8.72  8.722 8.718] Output 8.719\n",
            "Input [8.722 8.718 8.719] Output 8.722999999999999\n",
            "Input [8.718 8.719 8.723] Output 8.709\n",
            "Input [8.719 8.723 8.709] Output 8.718\n",
            "Input [8.723 8.709 8.718] Output 8.718\n",
            "Input [8.709 8.718 8.718] Output 8.711\n",
            "Input [8.718 8.718 8.711] Output 8.719\n",
            "Input [8.718 8.711 8.719] Output 8.72\n",
            "Input [8.711 8.719 8.72 ] Output 8.722000000000001\n",
            "Input [8.719 8.72  8.722] Output 8.72\n",
            "Input [8.72  8.722 8.72 ] Output 8.721\n",
            "Input [8.722 8.72  8.721] Output 8.722999999999999\n",
            "Input [8.72  8.721 8.723] Output 8.722000000000001\n",
            "Input [8.721 8.723 8.722] Output 8.722999999999999\n",
            "Input [8.723 8.722 8.723] Output 8.72\n",
            "Input [8.722 8.723 8.72 ] Output 8.722999999999999\n",
            "Input [8.723 8.72  8.723] Output 8.719\n",
            "Input [8.72  8.723 8.719] Output 8.722000000000001\n",
            "Input [8.723 8.719 8.722] Output 8.72\n",
            "Input [8.719 8.722 8.72 ] Output 8.722000000000001\n",
            "Input [8.722 8.72  8.722] Output 8.72\n",
            "Input [8.72  8.722 8.72 ] Output 8.721\n",
            "Input [8.722 8.72  8.721] Output 8.724\n",
            "Input [8.72  8.721 8.724] Output 8.728\n",
            "Input [8.721 8.724 8.728] Output 8.727\n",
            "Input [8.724 8.728 8.727] Output 8.725\n",
            "Input [8.728 8.727 8.725] Output 8.729\n",
            "Input [8.727 8.725 8.729] Output 8.727\n",
            "Input [8.725 8.729 8.727] Output 8.724\n",
            "Input [8.729 8.727 8.724] Output 8.721\n",
            "Input [8.727 8.724 8.721] Output 8.721\n",
            "Input [8.724 8.721 8.721] Output 8.719\n",
            "Input [8.721 8.721 8.719] Output 8.717\n",
            "Input [8.721 8.719 8.717] Output 8.718\n",
            "Input [8.719 8.717 8.718] Output 8.716000000000001\n",
            "Input [8.717 8.718 8.716] Output 8.72\n",
            "Input [8.718 8.716 8.72 ] Output 8.717\n",
            "Input [8.716 8.72  8.717] Output 8.717\n",
            "Input [8.72  8.717 8.717] Output 8.718\n",
            "Input [8.717 8.717 8.718] Output 8.72\n",
            "Input [8.717 8.718 8.72 ] Output 8.718\n",
            "Input [8.718 8.72  8.718] Output 8.72\n",
            "Input [8.72  8.718 8.72 ] Output 8.715\n",
            "Input [8.718 8.72  8.715] Output 8.722000000000001\n",
            "Input [8.72  8.715 8.722] Output 8.718\n",
            "Input [8.715 8.722 8.718] Output 8.721\n",
            "Input [8.722 8.718 8.721] Output 8.718\n",
            "Input [8.718 8.721 8.718] Output 8.719\n",
            "Input [8.721 8.718 8.719] Output 8.725\n",
            "Input [8.718 8.719 8.725] Output 8.721\n",
            "Input [8.719 8.725 8.721] Output 8.718\n",
            "Input [8.725 8.721 8.718] Output 8.722999999999999\n",
            "Input [8.721 8.718 8.723] Output 8.717\n",
            "Input [8.718 8.723 8.717] Output 8.725\n",
            "Input [8.723 8.717 8.725] Output 8.714\n",
            "Input [8.717 8.725 8.714] Output 8.722000000000001\n",
            "Input [8.725 8.714 8.722] Output 8.715\n",
            "Input [8.714 8.722 8.715] Output 8.721\n",
            "Input [8.722 8.715 8.721] Output 8.713\n",
            "Input [8.715 8.721 8.713] Output 8.722999999999999\n",
            "Input [8.721 8.713 8.723] Output 8.722000000000001\n",
            "Input [8.713 8.723 8.722] Output 8.719\n",
            "Input [8.723 8.722 8.719] Output 8.727\n",
            "Input [8.722 8.719 8.727] Output 8.726\n",
            "Input [8.719 8.727 8.726] Output 8.725\n",
            "Input [8.727 8.726 8.725] Output 8.726\n",
            "Input [8.726 8.725 8.726] Output 8.727\n",
            "Input [8.725 8.726 8.727] Output 8.729\n",
            "Input [8.726 8.727 8.729] Output 8.717\n",
            "Input [8.727 8.729 8.717] Output 8.724\n",
            "Input [8.729 8.717 8.724] Output 8.727\n",
            "Input [8.717 8.724 8.727] Output 8.724\n",
            "Input [8.724 8.727 8.724] Output 8.728\n",
            "Input [8.727 8.724 8.728] Output 8.726\n",
            "Input [8.724 8.728 8.726] Output 8.731\n",
            "Input [8.728 8.726 8.731] Output 8.722999999999999\n",
            "Input [8.726 8.731 8.723] Output 8.718\n",
            "Input [8.731 8.723 8.718] Output 8.722999999999999\n",
            "Input [8.723 8.718 8.723] Output 8.722999999999999\n",
            "Input [8.718 8.723 8.723] Output 8.726\n",
            "Input [8.723 8.723 8.726] Output 8.719\n",
            "Input [8.723 8.726 8.719] Output 8.72\n",
            "Input [8.726 8.719 8.72 ] Output 8.714\n",
            "Input [8.719 8.72  8.714] Output 8.718\n",
            "Input [8.72  8.714 8.718] Output 8.721\n",
            "Input [8.714 8.718 8.721] Output 8.721\n",
            "Input [8.718 8.721 8.721] Output 8.717\n",
            "Input [8.721 8.721 8.717] Output 8.724\n",
            "Input [8.721 8.717 8.724] Output 8.722000000000001\n",
            "Input [8.717 8.724 8.722] Output 8.716000000000001\n",
            "Input [8.724 8.722 8.716] Output 8.719\n",
            "Input [8.722 8.716 8.719] Output 8.72\n",
            "Input [8.716 8.719 8.72 ] Output 8.726\n",
            "Input [8.719 8.72  8.726] Output 8.721\n",
            "Input [8.72  8.726 8.721] Output 8.72\n",
            "Input [8.726 8.721 8.72 ] Output 8.721\n",
            "Input [8.721 8.72  8.721] Output 8.716000000000001\n",
            "Input [8.72  8.721 8.716] Output 8.724\n",
            "Input [8.721 8.716 8.724] Output 8.722999999999999\n",
            "Input [8.716 8.724 8.723] Output 8.722000000000001\n",
            "Input [8.724 8.723 8.722] Output 8.721\n",
            "Input [8.723 8.722 8.721] Output 8.722999999999999\n",
            "Input [8.722 8.721 8.723] Output 8.724\n",
            "Input [8.721 8.723 8.724] Output 8.719\n",
            "Input [8.723 8.724 8.719] Output 8.722999999999999\n",
            "Input [8.724 8.719 8.723] Output 8.725\n",
            "Input [8.719 8.723 8.725] Output 8.715\n",
            "Input [8.723 8.725 8.715] Output 8.714\n",
            "Input [8.725 8.715 8.714] Output 8.717\n",
            "Input [8.715 8.714 8.717] Output 8.718\n",
            "Input [8.714 8.717 8.718] Output 8.72\n",
            "Input [8.717 8.718 8.72 ] Output 8.719\n",
            "Input [8.718 8.72  8.719] Output 8.716000000000001\n",
            "Input [8.72  8.719 8.716] Output 8.722000000000001\n",
            "Input [8.719 8.716 8.722] Output 8.722999999999999\n",
            "Input [8.716 8.722 8.723] Output 8.72\n",
            "Input [8.722 8.723 8.72 ] Output 8.716000000000001\n",
            "Input [8.723 8.72  8.716] Output 8.713\n",
            "Input [8.72  8.716 8.713] Output 8.711\n",
            "Input [8.716 8.713 8.711] Output 8.716000000000001\n",
            "Input [8.713 8.711 8.716] Output 8.72\n",
            "Input [8.711 8.716 8.72 ] Output 8.717\n",
            "Input [8.716 8.72  8.717] Output 8.717\n",
            "Input [8.72  8.717 8.717] Output 8.718\n",
            "Input [8.717 8.717 8.718] Output 8.718\n",
            "Input [8.717 8.718 8.718] Output 8.721\n",
            "Input [8.718 8.718 8.721] Output 8.719\n",
            "Input [8.718 8.721 8.719] Output 8.718\n",
            "Input [8.721 8.719 8.718] Output 8.72\n",
            "Input [8.719 8.718 8.72 ] Output 8.721\n",
            "Input [8.718 8.72  8.721] Output 8.716000000000001\n",
            "Input [8.72  8.721 8.716] Output 8.715\n",
            "Input [8.721 8.716 8.715] Output 8.719\n",
            "Input [8.716 8.715 8.719] Output 8.718\n",
            "Input [8.715 8.719 8.718] Output 8.72\n",
            "Input [8.719 8.718 8.72 ] Output 8.722000000000001\n",
            "Input [8.718 8.72  8.722] Output 8.719\n",
            "Input [8.72  8.722 8.719] Output 8.711\n",
            "Input [8.722 8.719 8.711] Output 8.715\n",
            "Input [8.719 8.711 8.715] Output 8.716000000000001\n",
            "Input [8.711 8.715 8.716] Output 8.714\n",
            "Input [8.715 8.716 8.714] Output 8.717\n",
            "Input [8.716 8.714 8.717] Output 8.715\n",
            "Input [8.714 8.717 8.715] Output 8.716000000000001\n",
            "Input [8.717 8.715 8.716] Output 8.719\n",
            "Input [8.715 8.716 8.719] Output 8.709\n",
            "Input [8.716 8.719 8.709] Output 8.722000000000001\n",
            "Input [8.719 8.709 8.722] Output 8.712\n",
            "Input [8.709 8.722 8.712] Output 8.714\n",
            "Input [8.722 8.712 8.714] Output 8.715\n",
            "Input [8.712 8.714 8.715] Output 8.714\n",
            "Input [8.714 8.715 8.714] Output 8.713\n",
            "Input [8.715 8.714 8.713] Output 8.71\n",
            "Input [8.714 8.713 8.71 ] Output 8.713\n",
            "Input [8.713 8.71  8.713] Output 8.714\n",
            "Input [8.71  8.713 8.714] Output 8.715\n",
            "Input [8.713 8.714 8.715] Output 8.718\n",
            "Input [8.714 8.715 8.718] Output 8.715\n",
            "Input [8.715 8.718 8.715] Output 8.712\n",
            "Input [8.718 8.715 8.712] Output 8.716000000000001\n",
            "Input [8.715 8.712 8.716] Output 8.714\n",
            "Input [8.712 8.716 8.714] Output 8.716000000000001\n",
            "Input [8.716 8.714 8.716] Output 8.715\n",
            "Input [8.714 8.716 8.715] Output 8.715\n",
            "Input [8.716 8.715 8.715] Output 8.718\n",
            "Input [8.715 8.715 8.718] Output 8.715\n",
            "Input [8.715 8.718 8.715] Output 8.717\n",
            "Input [8.718 8.715 8.717] Output 8.711\n",
            "Input [8.715 8.717 8.711] Output 8.719\n",
            "Input [8.717 8.711 8.719] Output 8.714\n",
            "Input [8.711 8.719 8.714] Output 8.711\n",
            "Input [8.719 8.714 8.711] Output 8.716000000000001\n",
            "Input [8.714 8.711 8.716] Output 8.718\n",
            "Input [8.711 8.716 8.718] Output 8.721\n",
            "Input [8.716 8.718 8.721] Output 8.713\n",
            "Input [8.718 8.721 8.713] Output 8.718\n",
            "Input [8.721 8.713 8.718] Output 8.719\n",
            "Input [8.713 8.718 8.719] Output 8.719\n",
            "Input [8.718 8.719 8.719] Output 8.711\n",
            "Input [8.719 8.719 8.711] Output 8.714\n",
            "Input [8.719 8.711 8.714] Output 8.713\n",
            "Input [8.711 8.714 8.713] Output 8.715\n",
            "Input [8.714 8.713 8.715] Output 8.716000000000001\n",
            "Input [8.713 8.715 8.716] Output 8.717\n",
            "Input [8.715 8.716 8.717] Output 8.713\n",
            "Input [8.716 8.717 8.713] Output 8.72\n",
            "Input [8.717 8.713 8.72 ] Output 8.718\n",
            "Input [8.713 8.72  8.718] Output 8.711\n",
            "Input [8.72  8.718 8.711] Output 8.716000000000001\n",
            "Input [8.718 8.711 8.716] Output 8.709\n",
            "Input [8.711 8.716 8.709] Output 8.714\n",
            "Input [8.716 8.709 8.714] Output 8.709\n",
            "Input [8.709 8.714 8.709] Output 8.714\n",
            "Input [8.714 8.709 8.714] Output 8.715\n",
            "Input [8.709 8.714 8.715] Output 8.714\n",
            "Input [8.714 8.715 8.714] Output 8.713\n",
            "Input [8.715 8.714 8.713] Output 8.717\n",
            "Input [8.714 8.713 8.717] Output 8.72\n",
            "Input [8.713 8.717 8.72 ] Output 8.713\n",
            "Input [8.717 8.72  8.713] Output 8.716000000000001\n",
            "Input [8.72  8.713 8.716] Output 8.713\n",
            "Input [8.713 8.716 8.713] Output 8.715\n",
            "Input [8.716 8.713 8.715] Output 8.71\n",
            "Input [8.713 8.715 8.71 ] Output 8.717\n",
            "Input [8.715 8.71  8.717] Output 8.712\n",
            "Input [8.71  8.717 8.712] Output 8.714\n",
            "Input [8.717 8.712 8.714] Output 8.708\n",
            "Input [8.712 8.714 8.708] Output 8.712\n",
            "Input [8.714 8.708 8.712] Output 8.713\n",
            "Input [8.708 8.712 8.713] Output 8.713\n",
            "Input [8.712 8.713 8.713] Output 8.714\n",
            "Input [8.713 8.713 8.714] Output 8.719\n",
            "Input [8.713 8.714 8.719] Output 8.715\n"
          ],
          "name": "stdout"
        }
      ]
    },
    {
      "metadata": {
        "id": "sg3J6fjiLGsf",
        "colab_type": "text"
      },
      "cell_type": "markdown",
      "source": [
        "## 7.2.2 MLP Model\n",
        "\n",
        "To understand more about the Sequential model in Keras visit this link:\n",
        "https://towardsdatascience.com/building-a-deep-learning-model-using-keras-1548ca149d37"
      ]
    },
    {
      "metadata": {
        "id": "bW4UK5y1PMlY",
        "colab_type": "text"
      },
      "cell_type": "markdown",
      "source": [
        "`model = Sequential()` The model used here is the Sequential model.<br>\n",
        "`model.add(Dense(100,activation='relu',input_dim=n_steps))` This line says the number of neurons in the first hidden layer after the input layer is set to 100, the activation function is \"Rectified Linear Activation\" type (other types are softmax and sigmoid) and the no. neurons in the input layer is 3 matching the number of features of the dataset. Keras has a library to draw the layers see https://keras.io/visualization/ \n",
        "The image below shows the visualization of the code."
      ]
    },
    {
      "metadata": {
        "id": "BVnduYCLCrWp",
        "colab_type": "code",
        "outputId": "c6c117dd-9eb9-4eca-e6ba-f5b5b77c2302",
        "colab": {
          "base_uri": "https://localhost:8080/",
          "height": 595
        }
      },
      "cell_type": "code",
      "source": [
        "from google.colab import drive\n",
        "drive.mount('/content/gdrive')\n",
        "from IPython.display import Image\n",
        "Image('/content/gdrive/My Drive/Colab Notebooks/NeuralNetwork.png')"
      ],
      "execution_count": 0,
      "outputs": [
        {
          "output_type": "stream",
          "text": [
            "Drive already mounted at /content/gdrive; to attempt to forcibly remount, call drive.mount(\"/content/gdrive\", force_remount=True).\n"
          ],
          "name": "stdout"
        },
        {
          "output_type": "execute_result",
          "data": {
            "image/png": "[encoded data removed]",
            "text/plain": [
              "<IPython.core.display.Image object>"
            ]
          },
          "metadata": {
            "tags": []
          },
          "execution_count": 9
        }
      ]
    },
    {
      "metadata": {
        "id": "SVnw6t9NPNPo",
        "colab_type": "code",
        "outputId": "4f40a219-d653-4e14-e7c1-9e8c3c48bf03",
        "colab": {
          "base_uri": "https://localhost:8080/",
          "height": 389
        }
      },
      "cell_type": "code",
      "source": [
        "# univariate mlp example\n",
        "from numpy import array\n",
        "from keras.models import Sequential\n",
        "from keras.layers import Dense\n",
        "from keras.utils import plot_model\n",
        "from IPython.display import SVG\n",
        "from tensorflow.python.keras.utils.vis_utils import model_to_dot\n",
        "\n",
        "# define model\n",
        "model = Sequential()\n",
        "model.add(Dense(100, activation='relu', input_dim=n_steps))\n",
        "model.add(Dense((1), activation='relu'))\n",
        "model.compile(optimizer='adam', loss='mse')\n",
        "print(model.summary())\n",
        "plot_model(model, to_file='model.png', show_shapes=True, show_layer_names=True)\n",
        "SVG(model_to_dot(model).create(prog='dot', format='svg'))\n",
        "# Image('/content/model.png')\n",
        "# fit model\n",
        "model.fit(X, y, epochs=2000, verbose=0)"
      ],
      "execution_count": 4,
      "outputs": [
        {
          "output_type": "stream",
          "text": [
            "Using TensorFlow backend.\n"
          ],
          "name": "stderr"
        },
        {
          "output_type": "stream",
          "text": [
            "WARNING:tensorflow:From /usr/local/lib/python3.6/dist-packages/tensorflow/python/framework/op_def_library.py:263: colocate_with (from tensorflow.python.framework.ops) is deprecated and will be removed in a future version.\n",
            "Instructions for updating:\n",
            "Colocations handled automatically by placer.\n",
            "_________________________________________________________________\n",
            "Layer (type)                 Output Shape              Param #   \n",
            "=================================================================\n",
            "dense_1 (Dense)              (None, 100)               400       \n",
            "_________________________________________________________________\n",
            "dense_2 (Dense)              (None, 1)                 101       \n",
            "=================================================================\n",
            "Total params: 501\n",
            "Trainable params: 501\n",
            "Non-trainable params: 0\n",
            "_________________________________________________________________\n",
            "None\n",
            "WARNING:tensorflow:From /usr/local/lib/python3.6/dist-packages/tensorflow/python/ops/math_ops.py:3066: to_int32 (from tensorflow.python.ops.math_ops) is deprecated and will be removed in a future version.\n",
            "Instructions for updating:\n",
            "Use tf.cast instead.\n"
          ],
          "name": "stdout"
        },
        {
          "output_type": "execute_result",
          "data": {
            "text/plain": [
              "<keras.callbacks.History at 0x7f3dd415ce10>"
            ]
          },
          "metadata": {
            "tags": []
          },
          "execution_count": 4
        }
      ]
    },
    {
      "metadata": {
        "id": "SsaGzmNPLFl5",
        "colab_type": "code",
        "outputId": "05aa0247-28d5-42cd-ae8b-bdaf104da5db",
        "colab": {
          "base_uri": "https://localhost:8080/",
          "height": 70
        }
      },
      "cell_type": "code",
      "source": [
        "# demonstrate prediction\n",
        "x_input = array([8.713, 8.714, 8.719])\n",
        "print(\"before reshape\", x_input)\n",
        "x_input = x_input.reshape((1, n_steps))\n",
        "print(\"after reshape\", x_input)\n",
        "yhat = model.predict(x_input, verbose=0)\n",
        "print(yhat)"
      ],
      "execution_count": 5,
      "outputs": [
        {
          "output_type": "stream",
          "text": [
            "before reshape [8.713 8.714 8.719]\n",
            "after reshape [[8.713 8.714 8.719]]\n",
            "[[8.718581]]\n"
          ],
          "name": "stdout"
        }
      ]
    },
    {
      "metadata": {
        "id": "xtVP5bV6Cohw",
        "colab_type": "text"
      },
      "cell_type": "markdown",
      "source": [
        "## Success GDP1031: \n",
        "### 26 Feb 2019: Managed to get the model to predict 8.718 for an input of 8.713, 8.714, 8.719. The expected output should be 8.715m\n",
        "Note: Must remember to restart runtime once a certain part of the code has been executed once."
      ]
    },
    {
      "metadata": {
        "id": "TMcpPQQb3JLS",
        "colab_type": "code",
        "colab": {}
      },
      "cell_type": "code",
      "source": [
        "from google.colab import files\n",
        "\n",
        "files.download('model.png')"
      ],
      "execution_count": 0,
      "outputs": []
    }
  ]
}